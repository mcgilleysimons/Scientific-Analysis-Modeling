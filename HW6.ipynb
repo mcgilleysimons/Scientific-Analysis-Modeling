{
 "cells": [
  {
   "cell_type": "code",
   "execution_count": 1,
   "metadata": {},
   "outputs": [
    {
     "name": "stdout",
     "output_type": "stream",
     "text": [
      "1\n",
      "2\n",
      "Buzz\n",
      "4\n",
      "Fizz\n",
      "Buzz\n",
      "7\n",
      "8\n",
      "Buzz\n",
      "Fizz\n",
      "11\n",
      "Buzz\n",
      "13\n",
      "14\n",
      "FizzBuzz\n",
      "16\n",
      "17\n",
      "Buzz\n",
      "19\n",
      "Fizz\n",
      "Buzz\n",
      "22\n",
      "23\n",
      "Buzz\n",
      "Fizz\n",
      "26\n",
      "Buzz\n",
      "28\n",
      "29\n",
      "FizzBuzz\n",
      "31\n",
      "32\n",
      "Buzz\n",
      "34\n",
      "Fizz\n",
      "Buzz\n",
      "37\n",
      "38\n",
      "Buzz\n",
      "Fizz\n",
      "41\n",
      "Buzz\n",
      "43\n",
      "44\n",
      "FizzBuzz\n",
      "46\n",
      "47\n",
      "Buzz\n",
      "49\n",
      "Fizz\n",
      "Buzz\n",
      "52\n",
      "53\n",
      "Buzz\n",
      "Fizz\n",
      "56\n",
      "Buzz\n",
      "58\n",
      "59\n",
      "FizzBuzz\n",
      "61\n",
      "62\n",
      "Buzz\n",
      "64\n",
      "Fizz\n",
      "Buzz\n",
      "67\n",
      "68\n",
      "Buzz\n",
      "Fizz\n",
      "71\n",
      "Buzz\n",
      "73\n",
      "74\n",
      "FizzBuzz\n",
      "76\n",
      "77\n",
      "Buzz\n",
      "79\n",
      "Fizz\n",
      "Buzz\n",
      "82\n",
      "83\n",
      "Buzz\n",
      "Fizz\n",
      "86\n",
      "Buzz\n",
      "88\n",
      "89\n",
      "FizzBuzz\n",
      "91\n",
      "92\n",
      "Buzz\n",
      "94\n",
      "Fizz\n",
      "Buzz\n",
      "97\n",
      "98\n",
      "Buzz\n",
      "Fizz\n"
     ]
    }
   ],
   "source": [
    "# FizzBuzz\n",
    "\n",
    "for f in range(1,101):\n",
    "    if (f % 3 != 0) and (f % 5 != 0):\n",
    "        print(f)\n",
    "    elif (f % 3 == 0) and (f % 5 == 0):\n",
    "        print(\"FizzBuzz\")\n",
    "    elif (f % 3 == 0) and (f % 5 != 0):\n",
    "        print(\"Buzz\")\n",
    "    else:\n",
    "        print(\"Fizz\")"
   ]
  },
  {
   "cell_type": "code",
   "execution_count": 3,
   "metadata": {},
   "outputs": [
    {
     "data": {
      "text/plain": [
       "[<matplotlib.lines.Line2D at 0x119c0f860>]"
      ]
     },
     "execution_count": 3,
     "metadata": {},
     "output_type": "execute_result"
    },
    {
     "data": {
      "image/png": "[encoded data removed]",
      "text/plain": [
       "<Figure size 432x288 with 1 Axes>"
      ]
     },
     "metadata": {
      "needs_background": "light"
     },
     "output_type": "display_data"
    }
   ],
   "source": [
    "# Heat capacity of a solid \n",
    "\n",
    "from math import e\n",
    "from matplotlib import pyplot as plt\n",
    "\n",
    "density = 6.022 * (10 ** 28)\n",
    "theta_d = 428\n",
    "k_b = 1.38064852 * (10 ** (-23))\n",
    "N = 1000\n",
    "V = 1000 * (10 ** (-6))  # converted into cubic meters\n",
    "    \n",
    "def function_cv(x):\n",
    "    numer = (x**4) * (e ** x)\n",
    "    denom = ((e**x) - 1) ** 2\n",
    "    if denom != 0:\n",
    "        return (numer / denom)\n",
    "    return numer\n",
    "\n",
    "def trapezoid(a,b,n):\n",
    "    h = (b-a)/n\n",
    "    answer = (0.5 * function_cv(a)) + (0.5 * function_cv(b))\n",
    "    for i in range(1,n):\n",
    "        answer += (function_cv(a + (i*h)))\n",
    "    return (h * answer)\n",
    "\n",
    "temps = range(5,500)\n",
    "answerlist = []\n",
    "\n",
    "for T in temps:\n",
    "    input_a = 0\n",
    "    input_b = theta_d / T\n",
    "    t_num = trapezoid(input_a,input_b,N)\n",
    "    cv_answer = t_num * 9 * V * density * k_b * ((T / theta_d) ** 3)\n",
    "    answerlist.append(cv_answer)\n",
    "    \n",
    "plt.plot(temps,answerlist)"
   ]
  },
  {
   "cell_type": "code",
   "execution_count": null,
   "metadata": {},
   "outputs": [],
   "source": []
  }
 ],
 "metadata": {
  "kernelspec": {
   "display_name": "Python 3",
   "language": "python",
   "name": "python3"
  },
  "language_info": {
   "codemirror_mode": {
    "name": "ipython",
    "version": 3
   },
   "file_extension": ".py",
   "mimetype": "text/x-python",
   "name": "python",
   "nbconvert_exporter": "python",
   "pygments_lexer": "ipython3",
   "version": "3.7.3"
  }
 },
 "nbformat": 4,
 "nbformat_minor": 2
}
