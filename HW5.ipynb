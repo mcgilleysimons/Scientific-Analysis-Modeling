{
 "cells": [
  {
   "cell_type": "code",
   "execution_count": 84,
   "metadata": {},
   "outputs": [
    {
     "name": "stdout",
     "output_type": "stream",
     "text": [
      "StandardForm1: (-9.999894245993346e-07, -999999.999999)\n",
      "\n",
      "StandardForm2: (-1.000000000001e-06, -1000010.5755125057)\n",
      "\n",
      "Most accurate form: StandardForm3: (-1.000000000001e-06, -999999.999999)\n",
      "\n"
     ]
    }
   ],
   "source": [
    "# Quadratic Formula\n",
    "\n",
    "import math\n",
    "\n",
    "# 1a: Standard Formula Part 1\n",
    "def standardform1(a_1,b_1,c_1):\n",
    "    x1a = ((-b_1) + math.sqrt((b_1**2)-(4*a_1*c_1))) / (2 * a_1)\n",
    "    x1b = ((-b_1) - math.sqrt((b_1**2)-(4*a_1*c_1))) / (2 * a_1)\n",
    "    return(x1a,x1b)\n",
    "print(\"StandardForm1:\",standardform1(.001,1000,.001))\n",
    "print()\n",
    "\n",
    "# 1b: Standard Formula Part 2\n",
    "def standardform2(a_2,b_2,c_2):\n",
    "    x2a = (2 * c_2) / ((-b_2)-(math.sqrt((b_2**2)-(4*a_2*c_2))))\n",
    "    x2b = (2 * c_2) / ((-b_2)+(math.sqrt((b_2**2)-(4*a_2*c_2))))\n",
    "    return(x2a,x2b)\n",
    "print(\"StandardForm2:\",standardform2(.001,1000,.001))\n",
    "print()\n",
    "\n",
    "# 1c: Standard Formula Part 3\n",
    "def standardform3(a_3,b_3,c_3):\n",
    "    if b_3 < 0:\n",
    "        # equation 1 for a and 2 for b\n",
    "        x3a1 = (((-b_3) + math.sqrt((b_3**2)-(4*a_3*c_3))) / (2 * a_3))\n",
    "        x3b1 = ((2 * c_3) / ((-b_3)+(math.sqrt((b_3**2)-(4*a_3*c_3)))))\n",
    "        return(x3a1,x3b1)\n",
    "    else: \n",
    "        # equation 2 for a and 1 for b\n",
    "        x3a2 = ((2 * c_3) / ((-b_3)-(math.sqrt((b_3**2)-(4*a_3*c_3)))))\n",
    "        x3b2 = (((-b_3) - math.sqrt((b_3**2)-(4*a_3*c_3))) / (2 * a_3))\n",
    "        return(x3a2,x3b2)\n",
    "print(\"Most accurate form: StandardForm3:\",standardform3(.001,1000,.001))\n",
    "print()"
   ]
  },
  {
   "cell_type": "code",
   "execution_count": 85,
   "metadata": {},
   "outputs": [
    {
     "name": "stdout",
     "output_type": "stream",
     "text": [
      "(490.78425241273493, 8.46179745539198)\n",
      "(498.144677545714, 8.443130127893458)\n",
      "(485.30934897614435, 8.367402568554214)\n"
     ]
    }
   ],
   "source": [
    "# Semi-Empirical Mass Formula\n",
    "\n",
    "def semiempirical (A,Z):\n",
    "    a1 = 15.67\n",
    "    a2 = 17.23\n",
    "    a3 = 0.75\n",
    "    a4 = 93.2\n",
    "    if A % 2 == 1:\n",
    "        a5 = 0\n",
    "    if A % 2 == 0 and Z % 2 == 0:\n",
    "        a5 = 12.0\n",
    "    if A % 2 == 0 and Z % 2 == 1:\n",
    "        a5 = -12.0\n",
    "    part1 = a1 * A\n",
    "    part2 = a2 * (A ** (2/3))\n",
    "    part3 = a3 * ((Z**2) / (A ** (1/3)))\n",
    "    part4 = a4 * (((A - (2*Z)) ** 2) / A)\n",
    "    part5 = a5 / (A ** (1/2))\n",
    "    B = part1 - part2 - part3 - part4 - part5\n",
    "    return(B,(B/A))\n",
    "\n",
    "print(semiempirical(58,28))\n",
    "print(semiempirical(59,28))\n",
    "print(semiempirical(58,27))"
   ]
  },
  {
   "cell_type": "code",
   "execution_count": null,
   "metadata": {},
   "outputs": [],
   "source": []
  }
 ],
 "metadata": {
  "kernelspec": {
   "display_name": "Python 3",
   "language": "python",
   "name": "python3"
  },
  "language_info": {
   "codemirror_mode": {
    "name": "ipython",
    "version": 3
   },
   "file_extension": ".py",
   "mimetype": "text/x-python",
   "name": "python",
   "nbconvert_exporter": "python",
   "pygments_lexer": "ipython3",
   "version": "3.7.3"
  }
 },
 "nbformat": 4,
 "nbformat_minor": 2
}
