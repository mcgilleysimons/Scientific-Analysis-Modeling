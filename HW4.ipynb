{
 "cells": [
  {
   "cell_type": "code",
   "execution_count": 44,
   "metadata": {},
   "outputs": [
    {
     "name": "stdout",
     "output_type": "stream",
     "text": [
      "The altitude is -2181.5598978108233 kilometers.\n",
      "The altitude is 279.32162537285967 kilometers.\n",
      "The altitude is 35855.91017617497 kilometers.\n"
     ]
    }
   ],
   "source": [
    "import math\n",
    "def height(T):\n",
    "    time = T * 60\n",
    "    G = 6.67 * (10 ** (-11))\n",
    "    M = 5.97 * (10 ** 24)\n",
    "    R = 6371000\n",
    "    numer = G * M * (time ** 2)\n",
    "    denom = 4 * (math.pi ** 2)\n",
    "    root = (numer / denom) ** (1/3)\n",
    "    answer = (root - R) / 1000\n",
    "    return answer\n",
    "H = height(45)\n",
    "print(\"The altitude is\",H,\"kilometers.\")\n",
    "H = height(90)\n",
    "print(\"The altitude is\",H,\"kilometers.\")\n",
    "H = height(1440)\n",
    "print(\"The altitude is\",H,\"kilometers.\")"
   ]
  },
  {
   "cell_type": "code",
   "execution_count": null,
   "metadata": {},
   "outputs": [],
   "source": []
  },
  {
   "cell_type": "code",
   "execution_count": null,
   "metadata": {},
   "outputs": [],
   "source": []
  },
  {
   "cell_type": "code",
   "execution_count": null,
   "metadata": {},
   "outputs": [],
   "source": []
  }
 ],
 "metadata": {
  "kernelspec": {
   "display_name": "Python 3",
   "language": "python",
   "name": "python3"
  },
  "language_info": {
   "codemirror_mode": {
    "name": "ipython",
    "version": 3
   },
   "file_extension": ".py",
   "mimetype": "text/x-python",
   "name": "python",
   "nbconvert_exporter": "python",
   "pygments_lexer": "ipython3",
   "version": "3.7.3"
  }
 },
 "nbformat": 4,
 "nbformat_minor": 2
}
