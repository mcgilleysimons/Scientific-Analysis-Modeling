{
 "cells": [
  {
   "cell_type": "code",
   "execution_count": 37,
   "metadata": {},
   "outputs": [
    {
     "name": "stdout",
     "output_type": "stream",
     "text": [
      "<class 'bool'>\n",
      "<class 'float'>\n",
      "<class 'str'>\n",
      "<class 'int'>\n",
      "<class 'str'>\n",
      "<class 'int'>\n",
      "<class 'str'>\n",
      "<class 'bool'>\n",
      "<class 'str'>\n"
     ]
    }
   ],
   "source": [
    "a = False\n",
    "b = 3.7\n",
    "c = 'Alex'\n",
    "d = 7\n",
    "e = 'True'\n",
    "f = 17\n",
    "g = '17'\n",
    "h = True\n",
    "i = '3.14159'\n",
    "\n",
    "print(type(a))\n",
    "print(type(b))\n",
    "print(type(c))\n",
    "print(type(d))\n",
    "print(type(e))\n",
    "print(type(f))\n",
    "print(type(g))\n",
    "print(type(h))\n",
    "print(type(i))"
   ]
  },
  {
   "cell_type": "code",
   "execution_count": 2,
   "metadata": {},
   "outputs": [
    {
     "name": "stdout",
     "output_type": "stream",
     "text": [
      "False\n",
      "True\n",
      "True\n",
      "True\n",
      "False\n"
     ]
    }
   ],
   "source": [
    "a = False\n",
    "b = True\n",
    "c = False\n",
    "\n",
    "print(b and c)\n",
    "print(b or c)\n",
    "print(not a and b)\n",
    "print((a and b) or not c)\n",
    "print(not b and not (a or c))"
   ]
  },
  {
   "cell_type": "code",
   "execution_count": 3,
   "metadata": {},
   "outputs": [
    {
     "name": "stdout",
     "output_type": "stream",
     "text": [
      "10\n",
      "9\n",
      "8\n",
      "7\n",
      "6\n",
      "5\n",
      "4\n",
      "\n",
      "0\n",
      "1\n",
      "2\n",
      "3\n",
      "4\n",
      "\n",
      "10\n",
      "9\n",
      "8\n",
      "7\n",
      "\n",
      "Letter # 0 is S\n",
      "Letter # 1 is n\n",
      "Letter # 2 is o\n",
      "Letter # 3 is w\n",
      "Letter # 4 is !\n"
     ]
    }
   ],
   "source": [
    "num = 10\n",
    "while num > 3:\n",
    "    print(num)\n",
    "    num = num - 1\n",
    "print()\n",
    "\n",
    "divisor = 2\n",
    "for i in range(0,10,2):\n",
    "    print(i//divisor)\n",
    "print()\n",
    "\n",
    "num = 10\n",
    "while True:\n",
    "    if num < 7:\n",
    "        break\n",
    "    print(num)\n",
    "    num -= 1\n",
    "print()\n",
    "\n",
    "count = 0\n",
    "for letter in 'Snow!':\n",
    "    print('Letter #',count,'is',letter)\n",
    "    count += 1"
   ]
  },
  {
   "cell_type": "code",
   "execution_count": 36,
   "metadata": {},
   "outputs": [
    {
     "name": "stdout",
     "output_type": "stream",
     "text": [
      "100\n",
      "50.0\n",
      "25.0\n",
      "13.0\n",
      "7.0\n",
      "4.0\n",
      "2.0\n"
     ]
    }
   ],
   "source": [
    "n = 10\n",
    "i = 100\n",
    "\n",
    "# Original Code:\n",
    "\n",
    "# while i > 0:\n",
    "#     print(i)\n",
    "#     if i % 2 == 0:\n",
    "#         i = i / 2\n",
    "#     else: \n",
    "#         i = i + 1\n",
    "\n",
    "\n",
    "# New Code:\n",
    "\n",
    "while n > 0 and i != 1:\n",
    "    print(i)\n",
    "    if i % 2 == 0:\n",
    "        i = i / 2\n",
    "    else:\n",
    "        i -= (i // 2)\n",
    "    n -= 1\n"
   ]
  },
  {
   "cell_type": "code",
   "execution_count": 5,
   "metadata": {},
   "outputs": [
    {
     "name": "stdout",
     "output_type": "stream",
     "text": [
      "No way\n",
      "No thanks, I can find something better.\n",
      "I'll take it!\n",
      "So long, suckers! I'll take it!\n",
      "No thanks, I can find something better.\n"
     ]
    }
   ],
   "source": [
    "# Conditionals\n",
    "\n",
    "def dreamjob(location,pay):\n",
    "    if location == \"U.S.S. Enterprise\":\n",
    "        print(\"So long, suckers! I'll take it!\")\n",
    "    elif location == \"Massachusetts\":\n",
    "        if pay < 100000:\n",
    "            print(\"No way\")\n",
    "        else:\n",
    "            print(\"I'll take it!\")\n",
    "    elif location == \"California\" and pay > 40000:\n",
    "        print(\"I'll take it!\")\n",
    "    elif pay > 60000:\n",
    "        print(\"I'll take it!\")\n",
    "    else:\n",
    "        print(\"No thanks, I can find something better.\")\n",
    "\n",
    "dreamjob(\"Massachusetts\",50000)\n",
    "dreamjob(\"Iowa\",50000)\n",
    "dreamjob(\"California\",50000)\n",
    "dreamjob(\"U.S.S. Enterprise\",1)\n",
    "dreamjob(\"California\",25000)"
   ]
  },
  {
   "cell_type": "code",
   "execution_count": 6,
   "metadata": {},
   "outputs": [
    {
     "name": "stdout",
     "output_type": "stream",
     "text": [
      "a: 490000 b: 50000 quotient_ab: (9, 40000)\n",
      "b is big: True\n"
     ]
    }
   ],
   "source": [
    "# Finding Bugs\n",
    "\n",
    "def quotient(int_1,int_2):\n",
    "    return((int_1 // int_2),(int_1 % int_2))\n",
    "\n",
    "def large_num(num):\n",
    "    return (num > 10000)\n",
    "\n",
    "a = 490000\n",
    "b = 50000\n",
    "newnum = quotient(a,b)\n",
    "quotient_ab = newnum\n",
    "print(\"a:\",a,\"b:\",b,\"quotient_ab:\",quotient_ab)\n",
    "big = large_num(b)\n",
    "print(\"b is big:\",big)"
   ]
  },
  {
   "cell_type": "code",
   "execution_count": 7,
   "metadata": {},
   "outputs": [
    {
     "name": "stdout",
     "output_type": "stream",
     "text": [
      "Think of a number between 1 and 100, but don't tell me what you choose.\n",
      "Is it 51? lower\n",
      "Is it 26? higher\n",
      "Is it 39? yes\n",
      "Woohoo! I got it!\n"
     ]
    }
   ],
   "source": [
    "# Mystery Program\n",
    "\n",
    "print(\"Think of a number between 1 and 100, but don't tell me what you choose.\")\n",
    "min_n = 1\n",
    "max_n = 100\n",
    "right_answer = False\n",
    "\n",
    "while not right_answer:\n",
    "    mid_n = (max_n + min_n + 1)//2\n",
    "    answer = input(\"Is it \" + str(mid_n) + \"? \")\n",
    "    if answer[0] == \"y\":\n",
    "        right_answer = True\n",
    "    elif answer.startswith(\"higher\"):\n",
    "        min_n = mid_n + 1\n",
    "    elif answer.startswith(\"lower\"):\n",
    "        max_n = mid_n - 1\n",
    "    else:\n",
    "        print(\"Sorry, I don't understand your answer.\")\n",
    "\n",
    "print(\"Woohoo! I got it!\")"
   ]
  },
  {
   "cell_type": "code",
   "execution_count": null,
   "metadata": {},
   "outputs": [],
   "source": []
  }
 ],
 "metadata": {
  "kernelspec": {
   "display_name": "Python 3",
   "language": "python",
   "name": "python3"
  },
  "language_info": {
   "codemirror_mode": {
    "name": "ipython",
    "version": 3
   },
   "file_extension": ".py",
   "mimetype": "text/x-python",
   "name": "python",
   "nbconvert_exporter": "python",
   "pygments_lexer": "ipython3",
   "version": "3.7.3"
  }
 },
 "nbformat": 4,
 "nbformat_minor": 2
}
