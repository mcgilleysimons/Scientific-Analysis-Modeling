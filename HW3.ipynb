{
 "cells": [
  {
   "cell_type": "code",
   "execution_count": 1,
   "metadata": {},
   "outputs": [],
   "source": [
    "#import numpy as np\n",
    "#list1 = range(100)\n",
    "#for n in list1:\n",
    "#    firstnum = (-1)**n\n",
    "#    secondnum = ((10*(n)) ** n)\n",
    "#    newnum = secondnum // np.math.factorial\n",
    "#    sumnum = np.sum(firstnum * newnum)\n",
    "#    print(sumnum)\n",
    "#print(\"End.\",sumnum)\n"
   ]
  },
  {
   "cell_type": "code",
   "execution_count": 2,
   "metadata": {},
   "outputs": [],
   "source": [
    "#import numpy as np\n",
    "#r = range(100)\n",
    "#for n in r:\n",
    "#    pritn (n**2)\n",
    "#x,y = 0,0\n",
    "#for n in range(100):\n",
    "#    if (n % 10 == 0):\n",
    "#    thisnum = n\n",
    "#    x+=n\n",
    "#    print(x)\n",
    "#numsum2 = 0\n",
    "#for m in list1:\n",
    "#    if (m % 10 == 0):\n",
    "#        numsum2 += numpy.exp(-m)\n",
    "#        print (numsum2)\n",
    "#        m += 1"
   ]
  },
  {
   "cell_type": "code",
   "execution_count": 3,
   "metadata": {},
   "outputs": [
    {
     "name": "stdout",
     "output_type": "stream",
     "text": [
      "0 \t 1.0\n",
      "10 \t 4.5399929433607724e-05\n",
      "20 \t 5.47810291652921e-10\n",
      "30 \t -8.553020689132783e-05\n",
      "40 \t -123.09303988190482\n",
      "50 \t -564767275982.2412\n",
      "60 \t -4.385497375758544e+19\n",
      "70 \t -2.0436358336030707e+26\n",
      "80 \t -1.2156134999799205e+32\n",
      "90 \t -1.5016801896582823e+37\n",
      "\n",
      "0 \t 1.0 \t 1.0\n",
      "10 \t 4.5399929762484875e-05 \t 4.5399929762484854e-05\n",
      "20 \t 2.06115362243856e-09 \t 2.061153622438558e-09\n",
      "30 \t 9.35762296884019e-14 \t 9.357622968840175e-14\n",
      "40 \t 4.248354255291598e-18 \t 4.248354255291589e-18\n",
      "50 \t 1.928749847963923e-22 \t 1.9287498479639178e-22\n",
      "60 \t 8.756510762696549e-27 \t 8.75651076269652e-27\n",
      "70 \t 3.975449735908662e-31 \t 3.975449735908647e-31\n",
      "80 \t 1.8048513878454228e-35 \t 1.8048513878454153e-35\n",
      "90 \t 8.194012623990554e-40 \t 8.194012623990515e-40\n"
     ]
    }
   ],
   "source": [
    "import numpy as np\n",
    "from math import e\n",
    "\n",
    "# Trial 1\n",
    "#for n in range(100):\n",
    "#    if (n == 0):\n",
    "#        print (0,\"\\t\",e ** 0)\n",
    "#    if n > 0:\n",
    "#        \n",
    "#        numsum = (e ** n)\n",
    "#        mynum = numsum / (np.math.factorial(n))\n",
    "#        if (n % 10 == 0):\n",
    "#            print (n,\"\\t\",mynum)\n",
    "#    n += 1\n",
    "#print()\n",
    "\n",
    "# Trial 2\n",
    "for x in range(100):\n",
    "    sigma = 0\n",
    "    if (x == 0):\n",
    "        print (0,\"\\t\",e ** 0)\n",
    "    if x > 0: \n",
    "        for v in range(100): \n",
    "            expo = x ** v\n",
    "            if v % 2 == 1:\n",
    "                sigma -= (expo / np.math.factorial(v))\n",
    "            else:\n",
    "                sigma += (expo / np.math.factorial(v))\n",
    "        if (x % 10 == 0):\n",
    "            print(x,\"\\t\",sigma)\n",
    "        x += 1\n",
    "print()\n",
    "\n",
    "# Answer Values\n",
    "for m in range(100):\n",
    "    if (m % 10 == 0):\n",
    "        answer = (e ** (-m))\n",
    "        print (m,\"\\t\",answer,\"\\t\",np.exp(-m))"
   ]
  },
  {
   "cell_type": "code",
   "execution_count": 4,
   "metadata": {},
   "outputs": [],
   "source": [
    "# Trial 3\n",
    "#sum1 = 0\n",
    "#for y in range(100):\n",
    "#    for z in range(100):\n",
    "#        num = ((y ** z) / (np.math.factorial(z)))\n",
    "#        if z % 2 == 1:\n",
    "#            newnum = -1 * num\n",
    "#        else:\n",
    "#            newnum = num\n",
    "#        sum1 += newnum\n",
    "#    if (y % 10 == 0):\n",
    "#        print (y,\"\\t\",num)\n",
    "#    y += 1"
   ]
  },
  {
   "cell_type": "code",
   "execution_count": null,
   "metadata": {},
   "outputs": [],
   "source": []
  }
 ],
 "metadata": {
  "kernelspec": {
   "display_name": "Python 3",
   "language": "python",
   "name": "python3"
  },
  "language_info": {
   "codemirror_mode": {
    "name": "ipython",
    "version": 3
   },
   "file_extension": ".py",
   "mimetype": "text/x-python",
   "name": "python",
   "nbconvert_exporter": "python",
   "pygments_lexer": "ipython3",
   "version": "3.7.3"
  }
 },
 "nbformat": 4,
 "nbformat_minor": 2
}
